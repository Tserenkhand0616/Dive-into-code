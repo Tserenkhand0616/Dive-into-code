{
  "nbformat": 4,
  "nbformat_minor": 0,
  "metadata": {
    "colab": {
      "provenance": [],
      "include_colab_link": true
    },
    "kernelspec": {
      "name": "python3",
      "display_name": "Python 3"
    },
    "language_info": {
      "name": "python"
    }
  },
  "cells": [
    {
      "cell_type": "markdown",
      "metadata": {
        "id": "view-in-github",
        "colab_type": "text"
      },
      "source": [
        "<a href=\"https://colab.research.google.com/github/Tserenkhand0616/Dive-into-code/blob/main/Wheat_and_Chessboard.ipynb\" target=\"_parent\"><img src=\"https://colab.research.google.com/assets/colab-badge.svg\" alt=\"Open In Colab\"/></a>"
      ]
    },
    {
      "cell_type": "markdown",
      "source": [
        "[Question 1] Number of wheat on a 2x2 square chessboard\n",
        "Represent a chessboard with 2x2 squares as an ndarray and calculate the number of grains in each square. Place 1 wheat in the top left square, then 2 on the right, 4 on the bottom left, 8 on the bottom right, and so on.\n",
        "\n",
        "Transform the shape of the ndarray created in the sample code.\n",
        "\n"
      ],
      "metadata": {
        "id": "rglbOe-4x48J"
      }
    },
    {
      "cell_type": "code",
      "execution_count": null,
      "metadata": {
        "colab": {
          "base_uri": "https://localhost:8080/"
        },
        "id": "n0-V1LLFxJ9K",
        "outputId": "1ebdfced-a7d3-451e-ac30-ce44cd19e0ab"
      },
      "outputs": [
        {
          "output_type": "execute_result",
          "data": {
            "text/plain": [
              "array([[1, 2],\n",
              "       [4, 8]])"
            ]
          },
          "metadata": {},
          "execution_count": 1
        }
      ],
      "source": [
        "import numpy as np\n",
        "n=4\n",
        "small_board_list=[1]\n",
        "for _ in  range(n-1):\n",
        "  small_board_list.append(2*small_board_list[-1])\n",
        "\n",
        "small_board_ndarray=np.array(small_board_list)\n",
        "small_board_shaped=small_board_ndarray.reshape(2,2)\n",
        "small_board_shaped"
      ]
    },
    {
      "cell_type": "markdown",
      "source": [
        "[Problem 2] Extension to n × m squares\n",
        "Create a function that returns an ndarray of wheat counts on an nxm chessboard. Then use this function to find the number of wheat on an 8x8 chessboard."
      ],
      "metadata": {
        "id": "bzzNZmBu0rxf"
      }
    },
    {
      "cell_type": "code",
      "source": [
        "\n",
        "n=8\n",
        "m=8\n",
        "def find_number_of_wheat(n,m):\n",
        "  '''\n",
        "  A function that calculates how many wheat on each chessboard6\n",
        "\n",
        "  Parameters:\n",
        "\n",
        "  n = row of chessboard\n",
        "\n",
        "  m = column of chessboard\n",
        "\n",
        "  c = number of chessboard\n",
        "\n",
        "  nxm_board_list = 1D array of wheat on each chessboard\n",
        "\n",
        "  Returns:\n",
        "\n",
        "  done_board_wheat = 2 D array wheat on each chessboard\n",
        "\n",
        "  '''\n",
        "\n",
        "  c=n*m\n",
        "\n",
        "  nxm_board_list=[1]\n",
        "\n",
        "  for _ in range(c-1):\n",
        "\n",
        "    nxm_board_list.append(2*nxm_board_list[-1])\n",
        "\n",
        "  done_board_wheat = np.array(nxm_board_list).reshape(n,m)\n",
        "\n",
        "  return done_board_wheat\n",
        "\n",
        "last_board_wheat=np.array(find_number_of_wheat(n,m))\n"
      ],
      "metadata": {
        "id": "eDocxYiQ1Bfn"
      },
      "execution_count": null,
      "outputs": []
    },
    {
      "cell_type": "markdown",
      "source": [
        "[Question 3] Total number of wheat\n",
        "Find the total number of wheat on an 8x8 chess board. Also find the average of each column and visualize it in a bar chart.\n",
        "\n",
        "Sample code for bar charts is available."
      ],
      "metadata": {
        "id": "hj0vcd5nx4ZJ"
      }
    },
    {
      "cell_type": "code",
      "source": [
        "import matplotlib.pyplot as plt\n",
        "%matplotlib inline\n",
        "def find_total_number_of_wheat(last_board_wheat):\n",
        "  '''\n",
        "  A function that calculates find the sum of the columns of wheat on chessboard and total wheat.\n",
        "\n",
        "  Parameters:\n",
        "\n",
        "  last_board_wheat = 2D array on wheat of chessboard\n",
        "\n",
        "  needed_array = 1D array of wheat on chessboard\n",
        "\n",
        "  total_wheat = total wheat on chessboard\n",
        "\n",
        "  column = array that contain each column total wheat\n",
        "\n",
        "  Return:\n",
        "\n",
        "  total_wheat = total wheat on chessboard\n",
        "\n",
        "  column = total wheat of each column on chessboard\n",
        "  '''\n",
        "  needed_array=last_board_wheat.flatten()\n",
        "  total_wheat=np.sum(needed_array)\n",
        "  column=[]\n",
        "  for i in range(7):\n",
        "    column.append(np.sum(last_board_wheat[:,i]))\n",
        "  return total_wheat , column\n",
        "total, bar = find_total_number_of_wheat(last_board_wheat)\n",
        "plt.xlabel(\"column\")\n",
        "plt.ylabel(\"number\")\n",
        "plt.title(\"number in each column\")\n",
        "plt.bar(np.arange(1,8), bar)\n",
        "plt.show()\n",
        "print(\"The total number of wheat 8x8 = {}\".format(total))\n"
      ],
      "metadata": {
        "colab": {
          "base_uri": "https://localhost:8080/",
          "height": 489
        },
        "id": "katNunBLiDNc",
        "outputId": "afe19081-0ac9-4cec-cac3-1c59484decee"
      },
      "execution_count": null,
      "outputs": [
        {
          "output_type": "display_data",
          "data": {
            "text/plain": [
              "<Figure size 640x480 with 1 Axes>"
            ],
            "image/png": "[encoded data removed]"
          },
          "metadata": {}
        },
        {
          "output_type": "stream",
          "name": "stdout",
          "text": [
            "The total number of wheat 8x8 = 1.8446744073709552e+19\n"
          ]
        }
      ]
    },
    {
      "cell_type": "markdown",
      "source": [
        "[Question 4] Heat map of the number of wheat\n",
        "Visualize the number of wheat on an 8x8 square chessboard as a heatmap."
      ],
      "metadata": {
        "id": "65xo05vrbMnU"
      }
    },
    {
      "cell_type": "code",
      "source": [
        "plt.xlabel(\"column\")\n",
        "plt.ylabel(\"row\")\n",
        "plt.title(\"heatmap\")\n",
        "plt.pcolor(last_board_wheat)\n",
        "plt.show()"
      ],
      "metadata": {
        "colab": {
          "base_uri": "https://localhost:8080/",
          "height": 472
        },
        "id": "yO_vfReN2KRd",
        "outputId": "96e9401b-5b64-4944-ad81-9def0edac42d"
      },
      "execution_count": null,
      "outputs": [
        {
          "output_type": "display_data",
          "data": {
            "text/plain": [
              "<Figure size 640x480 with 1 Axes>"
            ],
            "image/png": "[encoded data removed]"
          },
          "metadata": {}
        }
      ]
    },
    {
      "cell_type": "markdown",
      "source": [
        "[Question 5] How many times the second half is the first half?\n",
        "Find the number of wheat in the second half of the chessboard multiplied by the number of wheat in the first half. The first half is rows 0 to 3 of the array, the second half is rows 4 to 7."
      ],
      "metadata": {
        "id": "WzsZk8s_bP1N"
      }
    },
    {
      "cell_type": "code",
      "source": [
        "S=0\n",
        "for i in range(3):\n",
        "  S=S+np.sum(last_board_wheat[i,:])\n",
        "first_half=S\n",
        "\n",
        "Z=0\n",
        "for i in range(4,7):\n",
        "  Z=Z+np.sum(last_board_wheat[i,:])\n",
        "second_half=Z\n",
        "How_many_time=second_half/first_half\n",
        "print(\" this {} times \".format(How_many_time))"
      ],
      "metadata": {
        "colab": {
          "base_uri": "https://localhost:8080/"
        },
        "id": "LOE0tHwz3iS-",
        "outputId": "f81f6d4d-a6af-4d40-dd2f-2d155b331dc1"
      },
      "execution_count": null,
      "outputs": [
        {
          "output_type": "stream",
          "name": "stdout",
          "text": [
            " this 4294967296.0 times \n"
          ]
        }
      ]
    },
    {
      "cell_type": "markdown",
      "source": [
        "[Problem 6] Extension to n × m squares by other calculation methods\n",
        "np.append()Create a new `` function that returns an ndarray that describes the number of wheat on an n x m square chessboard'' similar to Problem 2, one that uses and one that uses broadcasting .\n",
        "\n",
        "Use those functions to find again the number of wheat on the 8x8 square chessboa"
      ],
      "metadata": {
        "id": "KtBAh5cbdbm2"
      }
    },
    {
      "cell_type": "code",
      "source": [
        "%%timeit\n",
        "n=8\n",
        "m=8\n",
        "def find1_number_of_wheat(n,m):\n",
        "  '''\n",
        "  A function that calculates how many wheat on each chessboard6\n",
        "\n",
        "  Parameters:\n",
        "\n",
        "  n = row of chessboard\n",
        "\n",
        "  m = column of chessboard\n",
        "\n",
        "  c = number of chessboard\n",
        "\n",
        "  nxm_board_list = 1D array of wheat on each chessboard\n",
        "\n",
        "  Returns:\n",
        "\n",
        "  done_board_wheat = 2 D array wheat on each chessboard\n",
        "\n",
        "  '''\n",
        "\n",
        "  c=n*m\n",
        "\n",
        "  index=np.arange(c)\n",
        "\n",
        "  nxm_board_list = 2**index\n",
        "\n",
        "  done_board_wheat = np.array(nxm_board_list).reshape(n,m)\n",
        "\n",
        "  return done_board_wheat\n",
        "\n",
        "last_board_wheat=np.array(find1_number_of_wheat(n,m))\n"
      ],
      "metadata": {
        "id": "B_dcT9I43vd5",
        "colab": {
          "base_uri": "https://localhost:8080/"
        },
        "outputId": "88890594-d08d-4805-cee5-47b183482d2b"
      },
      "execution_count": null,
      "outputs": [
        {
          "output_type": "stream",
          "name": "stdout",
          "text": [
            "6.59 µs ± 1.99 µs per loop (mean ± std. dev. of 7 runs, 100000 loops each)\n"
          ]
        }
      ]
    },
    {
      "cell_type": "code",
      "source": [
        "%%timeit\n",
        "n=8\n",
        "m=8\n",
        "def find2_number_of_wheat(n,m):\n",
        "  '''\n",
        "  A function that calculates how many wheat on each chessboard6\n",
        "\n",
        "  Parameters:\n",
        "\n",
        "  n = row of chessboard\n",
        "\n",
        "  m = column of chessboard\n",
        "\n",
        "  c = number of chessboard\n",
        "\n",
        "  nxm_board_list = 1D array of wheat on each chessboard\n",
        "\n",
        "  Returns:\n",
        "\n",
        "  done_board_wheat = 2 D array wheat on each chessboard\n",
        "\n",
        "  '''\n",
        "  nxm_board_list = np.array([1])\n",
        "  c=n*m\n",
        "  for _ in range(c-1):\n",
        "\n",
        "    nxm_board_list=np.append(nxm_board_list, 2*nxm_board_list[-1])\n",
        "\n",
        "  done_board_wheat = np.array(nxm_board_list).reshape(n,m)\n",
        "\n",
        "  done_board_wheat = np.array(nxm_board_list).reshape(n,m)\n",
        "\n",
        "  return done_board_wheat\n",
        "\n",
        "last_board_wheat=np.array(find2_number_of_wheat(n,m))"
      ],
      "metadata": {
        "colab": {
          "base_uri": "https://localhost:8080/"
        },
        "id": "hKP9kW0-fkE9",
        "outputId": "d60c0e88-3f15-4e65-dcf7-9878dd8ddb71"
      },
      "execution_count": null,
      "outputs": [
        {
          "output_type": "stream",
          "name": "stderr",
          "text": [
            "<magic-timeit>:26: RuntimeWarning: overflow encountered in long_scalars\n"
          ]
        },
        {
          "output_type": "stream",
          "name": "stdout",
          "text": [
            "372 µs ± 18 µs per loop (mean ± std. dev. of 7 runs, 1000 loops each)\n"
          ]
        }
      ]
    },
    {
      "cell_type": "markdown",
      "source": [
        "[Question 7] Comparison of calculation time\n",
        "I've seen 3 different methods. Please measure each calculation time %%timeitusing Jupyter Notebook and compare and discuss."
      ],
      "metadata": {
        "id": "fJLFpgfVg7xM"
      }
    },
    {
      "cell_type": "code",
      "source": [
        "%%timeit\n",
        "n=8\n",
        "m=8\n",
        "last_board_wheat=np.array(find1_number_of_wheat(n,m))# Broadcast method\n"
      ],
      "metadata": {
        "colab": {
          "base_uri": "https://localhost:8080/"
        },
        "id": "lUYBeX_kg6Pf",
        "outputId": "9e581429-c75f-4a12-9bc6-cd09153a04d4"
      },
      "execution_count": null,
      "outputs": [
        {
          "output_type": "stream",
          "name": "stdout",
          "text": [
            "4.74 µs ± 306 ns per loop (mean ± std. dev. of 7 runs, 100000 loops each)\n"
          ]
        }
      ]
    },
    {
      "cell_type": "code",
      "source": [
        "%%timeit\n",
        "n=8\n",
        "m=8\n",
        "last_board_wheat=np.array(find2_number_of_wheat(n,m)) # ndarray method"
      ],
      "metadata": {
        "colab": {
          "base_uri": "https://localhost:8080/"
        },
        "id": "_XmVvXdpgizY",
        "outputId": "2aec8997-3d4d-4b50-9626-53b5a3068dee"
      },
      "execution_count": null,
      "outputs": [
        {
          "output_type": "stream",
          "name": "stderr",
          "text": [
            "<ipython-input-42-b9405cd8cf04>:26: RuntimeWarning: overflow encountered in long_scalars\n",
            "  nxm_board_list=np.append(nxm_board_list, 2*nxm_board_list[-1])\n"
          ]
        },
        {
          "output_type": "stream",
          "name": "stdout",
          "text": [
            "486 µs ± 136 µs per loop (mean ± std. dev. of 7 runs, 1000 loops each)\n"
          ]
        }
      ]
    },
    {
      "cell_type": "code",
      "source": [
        "%%timeit\n",
        "n=8\n",
        "m=8\n",
        "last_board_wheat=np.array(find_number_of_wheat(n,m)) # my first method"
      ],
      "metadata": {
        "colab": {
          "base_uri": "https://localhost:8080/"
        },
        "id": "ZnblFKdihi1k",
        "outputId": "20436b10-f8f2-4dd0-ce7f-ffea70b758a2"
      },
      "execution_count": null,
      "outputs": [
        {
          "output_type": "stream",
          "name": "stdout",
          "text": [
            "24.7 µs ± 3.35 µs per loop (mean ± std. dev. of 7 runs, 100000 loops each)\n"
          ]
        }
      ]
    },
    {
      "cell_type": "markdown",
      "source": [
        "Broadcat It took the least amount of time out of the other 3 methods"
      ],
      "metadata": {
        "id": "5VuvPhvBh4so"
      }
    }
  ]
}