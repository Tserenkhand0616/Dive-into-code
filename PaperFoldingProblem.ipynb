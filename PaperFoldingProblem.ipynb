{
  "nbformat": 4,
  "nbformat_minor": 0,
  "metadata": {
    "colab": {
      "provenance": [],
      "authorship_tag": "ABX9TyPZjUtbYUqcF7J7yADCw3gB",
      "include_colab_link": true
    },
    "kernelspec": {
      "name": "python3",
      "display_name": "Python 3"
    },
    "language_info": {
      "name": "python"
    }
  },
  "cells": [
    {
      "cell_type": "markdown",
      "metadata": {
        "id": "view-in-github",
        "colab_type": "text"
      },
      "source": [
        "<a href=\"https://colab.research.google.com/github/Tserenkhand0616/Dive-into-code/blob/main/PaperFoldingProblem.ipynb\" target=\"_parent\"><img src=\"https://colab.research.google.com/assets/colab-badge.svg\" alt=\"Open In Colab\"/></a>"
      ]
    },
    {
      "cell_type": "markdown",
      "source": [
        "[Problem 1] Implementation using exponentiation arithmetic operators\n",
        "Create a program that uses the exponentiation arithmetic operator.\n",
        "As a template, we have prepared a code that calculates the thickness of a sheet of paper when it is folded once. Rewrite the code to calculate the thickness when the paper is folded 43 times."
      ],
      "metadata": {
        "id": "qbxzXzlFa8FF"
      }
    },
    {
      "cell_type": "code",
      "execution_count": 2,
      "metadata": {
        "colab": {
          "base_uri": "https://localhost:8080/"
        },
        "id": "0jQF1hrXapfJ",
        "outputId": "96a85c6f-d572-47ea-8b73-9168e1e3a403"
      },
      "outputs": [
        {
          "output_type": "stream",
          "name": "stdout",
          "text": [
            "Thickness: 703687441.77664 meters\n"
          ]
        }
      ],
      "source": [
        "THICKNESS = 0.00008\n",
        "\n",
        "folded_thickness = THICKNESS * 2 **43\n",
        "\n",
        "print(\"Thickness: {} meters\".format(folded_thickness))"
      ]
    },
    {
      "cell_type": "markdown",
      "source": [
        "[Problem 2] Unit Conversion\n",
        "If the unit is meters, it's hard to feel the difference, so please convert the unit to ◯◯ 10,000 kilometers and display it.\n",
        "\n",
        "​We have prepared a code converted to ◯◯ kilometers as a sample, so please refer to it when working on it. It is specified that up to 2 digits are displayed after the decimal point."
      ],
      "metadata": {
        "id": "L8DQsx9ibiMv"
      }
    },
    {
      "cell_type": "code",
      "source": [
        "print(\"Thickness: {: .2f} kilometers\".format(folded_thickness / 10000))\n"
      ],
      "metadata": {
        "colab": {
          "base_uri": "https://localhost:8080/"
        },
        "id": "oldu912fbbGW",
        "outputId": "d7ec5546-8bb7-4b62-92b1-fc239bb8b0c4"
      },
      "execution_count": 3,
      "outputs": [
        {
          "output_type": "stream",
          "name": "stdout",
          "text": [
            "Thickness:  70368.74 kilometers\n"
          ]
        }
      ]
    },
    {
      "cell_type": "markdown",
      "source": [
        "[Problem 3] Create using a for statement\n",
        "Next, create a program that uses the for statement.\n",
        "\n",
        "Do not use exponentiation arithmetic operators. Only the four arithmetic operations+ , - , * , / ) are allowed."
      ],
      "metadata": {
        "id": "Cggr6G5Obut4"
      }
    },
    {
      "cell_type": "code",
      "source": [
        "THICKNESS = 0.00008\n",
        "for i in range(43):\n",
        "  THICKNESS=THICKNESS*2\n",
        "print(\"Thickness: {: .2f} kilometers\".format(THICKNESS / 10000))"
      ],
      "metadata": {
        "colab": {
          "base_uri": "https://localhost:8080/"
        },
        "id": "5DPPBMYqbya1",
        "outputId": "b9effd91-93bb-4573-b46c-210738dadbb0"
      },
      "execution_count": 6,
      "outputs": [
        {
          "output_type": "stream",
          "name": "stdout",
          "text": [
            "Thickness:  70368.74 kilometers\n"
          ]
        }
      ]
    },
    {
      "cell_type": "markdown",
      "source": [
        "[Problem 4] Comparison of calculation time\n",
        "Both of the above two methods are correct, but when comparing the goodness of the code, for example, the following points are evaluated.\n",
        "\n",
        "Execution speed\n",
        "Memory usage\n",
        "Readability\n",
        "Scalability\n",
        "Reusability\n",
        "This time I will compare the execution speed.\n",
        "\n",
        "Use the template below to output the execution times of the two methods and compare them. Compare the time in the range excluding the parts used by either method, such as variable definition and print​"
      ],
      "metadata": {
        "id": "X-EaX_3ic91s"
      }
    },
    {
      "cell_type": "code",
      "source": [
        "import time\n",
        "THICKNESS = 0.00008\n",
        "start = time.time()\n",
        "folded_thickness = THICKNESS * 2 **43\n",
        "elapsed_time = time.time() - start\n",
        "print(\"time : {}[s]\".format(elapsed_time))"
      ],
      "metadata": {
        "colab": {
          "base_uri": "https://localhost:8080/"
        },
        "id": "s7P_wOl3c_Ui",
        "outputId": "8a10fb41-8d04-44d8-9b8d-e1523de0ccba"
      },
      "execution_count": 21,
      "outputs": [
        {
          "output_type": "stream",
          "name": "stdout",
          "text": [
            "time : 8.678436279296875e-05[s]\n"
          ]
        }
      ]
    },
    {
      "cell_type": "code",
      "source": [
        "start = time.time()\n",
        "THICKNESS = 0.00008\n",
        "for i in range(44):\n",
        "  THICKNESS=THICKNESS*2\n",
        "elapsed_time = time.time() - start\n",
        "print(\"time : {}[s]\".format(elapsed_time))"
      ],
      "metadata": {
        "colab": {
          "base_uri": "https://localhost:8080/"
        },
        "id": "FQR-dtA4dXAg",
        "outputId": "f79afe3a-97a5-4419-a972-063c2045bda1"
      },
      "execution_count": 22,
      "outputs": [
        {
          "output_type": "stream",
          "name": "stdout",
          "text": [
            "time : 0.0002663135528564453[s]\n"
          ]
        }
      ]
    },
    {
      "cell_type": "code",
      "source": [
        "[Problem 5] Saving to a list\n",
        "So far, we have only used the last value after 43 folds, but we need the process values as well to visualize them in the graph; add the code that records the total of 44 process values to the code using the for statement.\n"
      ],
      "metadata": {
        "id": "3-EvK2xXfXUe"
      },
      "execution_count": null,
      "outputs": []
    },
    {
      "cell_type": "code",
      "source": [
        "THICKNESS = 0.00008\n",
        "t=[]\n",
        "for i in range(44):\n",
        "  t.append(THICKNESS*2**i)\n",
        "print(len(t))"
      ],
      "metadata": {
        "colab": {
          "base_uri": "https://localhost:8080/"
        },
        "id": "ZTPxs6I8faVn",
        "outputId": "f796bbaf-523b-4488-c864-7220e7473310"
      },
      "execution_count": 25,
      "outputs": [
        {
          "output_type": "stream",
          "name": "stdout",
          "text": [
            "44\n"
          ]
        }
      ]
    },
    {
      "cell_type": "markdown",
      "source": [
        "[Problem 6] Displaying a line graph\n",
        "A library called Matplotlib is used to draw the graph. Use the following template after the code you want to record in the list."
      ],
      "metadata": {
        "id": "SxSJii_bf7Rz"
      }
    },
    {
      "cell_type": "code",
      "source": [
        "import matplotlib.pyplot as plt\n",
        "%matplotlib inline\n",
        "\n",
        "# Display the graph. Title and axis label name.\n",
        "plt.title(\"thickness of folded paper\")\n",
        "plt.xlabel(\"number of folds\")\n",
        "plt.ylabel(\"thickness [m]\")\n",
        "plt.plot(t)  # Enter the variable name of the list in \"List name\"\n",
        "plt.show()"
      ],
      "metadata": {
        "colab": {
          "base_uri": "https://localhost:8080/",
          "height": 295
        },
        "id": "GVLcJzk7f-Xp",
        "outputId": "c8efc011-eb38-401b-c379-58eb84ae0534"
      },
      "execution_count": 26,
      "outputs": [
        {
          "output_type": "display_data",
          "data": {
            "text/plain": [
              "<Figure size 432x288 with 1 Axes>"
            ],
            "image/png": "[encoded data removed]"
          },
          "metadata": {
            "needs_background": "light"
          }
        }
      ]
    },
    {
      "cell_type": "markdown",
      "source": [
        "[Problem 7] Customizing graphs\n",
        "Let's customize the graph to make it easier to see. Create at least 3 customized graphs. For example, the line color can be changed to red by rewriting as follows."
      ],
      "metadata": {
        "id": "gEs_lzZrgPDH"
      }
    },
    {
      "cell_type": "code",
      "source": [
        "import matplotlib.pyplot as plt\n",
        "%matplotlib inline\n",
        "plt.title(\"thickness of folded paper\")\n",
        "plt.xlabel(\"number of folds\")\n",
        "plt.ylabel(\"thickness [m]\")\n",
        "plt.plot(t, color='red', marker='o', linestyle=':', linewidth=1, markersize=3)\n",
        "plt.show()"
      ],
      "metadata": {
        "colab": {
          "base_uri": "https://localhost:8080/",
          "height": 295
        },
        "id": "c0aBK2mBgTC6",
        "outputId": "4da076c3-e2da-4306-9a1c-471b3243bab9"
      },
      "execution_count": 32,
      "outputs": [
        {
          "output_type": "display_data",
          "data": {
            "text/plain": [
              "<Figure size 432x288 with 1 Axes>"
            ],
            "image/png": "[encoded data removed]"
          },
          "metadata": {
            "needs_background": "light"
          }
        }
      ]
    }
  ]
}