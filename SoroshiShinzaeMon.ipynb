{
  "nbformat": 4,
  "nbformat_minor": 0,
  "metadata": {
    "colab": {
      "provenance": [],
      "include_colab_link": true
    },
    "kernelspec": {
      "name": "python3",
      "display_name": "Python 3"
    },
    "language_info": {
      "name": "python"
    }
  },
  "cells": [
    {
      "cell_type": "markdown",
      "metadata": {
        "id": "view-in-github",
        "colab_type": "text"
      },
      "source": [
        "<a href=\"https://colab.research.google.com/github/Tserenkhand0616/Dive-into-code/blob/main/SoroshiShinzaeMon.ipynb\" target=\"_parent\"><img src=\"https://colab.research.google.com/assets/colab-badge.svg\" alt=\"Open In Colab\"/></a>"
      ]
    },
    {
      "cell_type": "markdown",
      "source": [
        "【Problem 1] Number of grains of rice on the 100th day\n",
        "Create a code to calculate how many grains of rice you receive in total on the 100th day, and output the answer. Also, use a line graph to represent the change in the number of rice grains you receive on that day and the total number of rice grains you receive by that day from day 1 to day 100. (The vertical axis is the number of rice and the horizontal axis is the number of days)"
      ],
      "metadata": {
        "id": "mU0PVqbwddSj"
      }
    },
    {
      "cell_type": "code",
      "execution_count": null,
      "metadata": {
        "id": "lpAKit5S5AY-",
        "colab": {
          "base_uri": "https://localhost:8080/",
          "height": 455
        },
        "outputId": "7afb0e9b-7bd4-44d1-f928-e0395b64411f"
      },
      "outputs": [
        {
          "output_type": "display_data",
          "data": {
            "text/plain": [
              "<Figure size 432x288 with 1 Axes>"
            ],
            "image/png": "[encoded data removed]"
          },
          "metadata": {
            "needs_background": "light"
          }
        },
        {
          "output_type": "display_data",
          "data": {
            "text/plain": [
              "<Figure size 432x288 with 1 Axes>"
            ],
            "image/png": "[encoded data removed]"
          },
          "metadata": {
            "needs_background": "light"
          }
        }
      ],
      "source": [
        "import matplotlib.pyplot as plt\n",
        "%matplotlib inline\n",
        "grains_of_rice=[]\n",
        "total_grains_of_rice=[]\n",
        "S=0\n",
        "for n in range (99):\n",
        "  grains_of_rice.append(2**n)\n",
        "  S=S+grains_of_rice[n]\n",
        "  total_grains_of_rice.append(S)\n",
        "plt.figure()\n",
        "plt.subplot(2,1,1)\n",
        "plt.title(\"grain of receive each day\")\n",
        "plt.xlabel(\"number of day\")\n",
        "plt.ylabel(\"number of rice\")\n",
        "plt.plot(grains_of_rice)\n",
        "plt.show()\n",
        "plt.title(\"total grain of rice \")\n",
        "plt.xlabel(\"number of day\")\n",
        "plt.ylabel(\"number of rice\")\n",
        "plt.plot(total_grains_of_rice)\n",
        "plt.show()"
      ]
    },
    {
      "cell_type": "markdown",
      "source": [
        "【Problem 2] Number of rice grains outside of the 100th day\n",
        "The number of days in this anecdote is ambiguous, such as 30 days or 81 days. Let's create a function that takes days as an argument so that it can handle any story. After creating the function, please answer how many rice grains you will receive in the number of days you take the course. Please output the line graph as well as problem 1.\n",
        "\n",
        "The following template contains not only the framework as a function, but also comments on arguments and return values. Please refer to it and rewrite the comments in a way that is easy for you to understand."
      ],
      "metadata": {
        "id": "Z12ooiyOdkMn"
      }
    },
    {
      "cell_type": "code",
      "source": [
        "def compute_sorori_shinzaemon(n_days):\n",
        "  '''\n",
        "  A function that calculates receive grain of rice eachday and total grain rice of eachday\n",
        "\n",
        "  Parameters:\n",
        "  ----------\n",
        "  j : int\n",
        "    Used for loop\n",
        "  S : int\n",
        "    Total grain of rice\n",
        "\n",
        "  Returns:\n",
        "  -------\n",
        "  list_n_grain : list\n",
        "    List of receive grain of rice each day\n",
        "  list_total_grain : list\n",
        "   List of total grain rice of eachday\n",
        "    '''\n",
        "  S=0\n",
        "\n",
        "  list_n_grain= []\n",
        "  list_total_grain=[]\n",
        "\n",
        "  for i in range(n_days):\n",
        "    list_n_grain.append(2**i)\n",
        "    S=S+list_n_grain[i]\n",
        "    list_total_grain.append(S)\n",
        "\n",
        "  return list_total_grain, list_n_grain\n",
        "\n",
        "n_days=270 #We have 9 monnths and this means 270 days\n",
        "list_total_grain, list_n_grain = compute_sorori_shinzaemon(n_days)\n",
        "\n",
        "plt.figure()\n",
        "plt.subplot(1,2,1)\n",
        "plt.title(\"grain of receive each day\")\n",
        "plt.xlabel(\"number of day\")\n",
        "plt.ylabel(\"number of rice\")\n",
        "plt.plot(list_n_grain, color=\"green\", marker=\"o\")\n",
        "\n",
        "# adding second subplot\n",
        "plt.subplot(1,2,2)\n",
        "plt.title(\"total grain of rice\")\n",
        "plt.xlabel(\"number of day\")\n",
        "plt.plot(list_total_grain, color=\"red\", marker=\"o\")"
      ],
      "metadata": {
        "colab": {
          "base_uri": "https://localhost:8080/",
          "height": 312
        },
        "id": "Li1bnGGHkUiu",
        "outputId": "fdba3f6b-5c9a-40d8-914e-f2d76c034e21"
      },
      "execution_count": null,
      "outputs": [
        {
          "output_type": "execute_result",
          "data": {
            "text/plain": [
              "[<matplotlib.lines.Line2D at 0x7f7d758e7050>]"
            ]
          },
          "metadata": {},
          "execution_count": 20
        },
        {
          "output_type": "display_data",
          "data": {
            "text/plain": [
              "<Figure size 432x288 with 2 Axes>"
            ],
            "image/png": "[encoded data removed]"
          },
          "metadata": {
            "needs_background": "light"
          }
        }
      ]
    },
    {
      "cell_type": "markdown",
      "source": [
        "【Problem 3] How many people can live for how many days with the rice we get?\n",
        "Create a function to calculate how many people can live for how many days with this rice. Output how many days the number of people in this class can live with the grains of rice they receive for the duration of the course.\n",
        "\n",
        "The minimum input for the function is the number of rice grains (int) and the number of people(int), and the output is the number of days to live (int). Please make sure that the function name and comments are easy to understand.\n",
        "\n",
        "The number of grains of rice needed per day is not provided here. Please do your own research and put it into a formula. Please leave a comment on how you did your research and what you used as your basis."
      ],
      "metadata": {
        "id": "GQ5f7cTZwcd3"
      }
    },
    {
      "cell_type": "code",
      "source": [
        "def How_Many_Days_can_live(number_of_rice, number_of_people):\n",
        "\n",
        "  '''\n",
        "  A function that calculates how many people can live for how many days with the rice we get\n",
        "\n",
        "  Paremeters:\n",
        "  ----------\n",
        "  number_of_rice: int\n",
        "    Total  rice grain\n",
        "  number_of_people: int\n",
        "    Number of people\n",
        "  eat_1_day : int\n",
        "    Number of rice how many rice 1 person eat in 1 day\n",
        "  Returns:\n",
        "  ----------\n",
        "  number_of_days: int\n",
        "    Number of days people can live eating rice grain\n",
        "  '''\n",
        "  eat_1_day=3 #1 person needed 3 meals it means we need 3 rice in day. In this problem calculation has no unit. And its hard to create formula\n",
        "\n",
        "  number_of_days=number_of_rice/(number_of_people)*eat_1_day\n",
        "\n",
        "  return number_of_days\n",
        "\n",
        "number_of_rice=list_total_grain[-1] #number of rice we received our course days\n",
        "number_of_people=34 #number of our class students = 34\n",
        "number_of_days= How_Many_Days_can_live(number_of_rice, number_of_people)\n",
        "print(\"Our class student live {} days using planted rice during our course days\".format(number_of_days))"
      ],
      "metadata": {
        "colab": {
          "base_uri": "https://localhost:8080/"
        },
        "id": "u98XJahXwmIE",
        "outputId": "d06783f3-9826-420a-de35-53710928a33a"
      },
      "execution_count": null,
      "outputs": [
        {
          "output_type": "stream",
          "name": "stdout",
          "text": [
            "Our class student live 1.673944932409578e+80 days using planted rice during our course days\n"
          ]
        }
      ]
    },
    {
      "cell_type": "code",
      "source": [],
      "metadata": {
        "id": "h5750oa-4Plj"
      },
      "execution_count": null,
      "outputs": []
    }
  ]
}