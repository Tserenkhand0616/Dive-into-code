{
  "nbformat": 4,
  "nbformat_minor": 0,
  "metadata": {
    "colab": {
      "provenance": [],
      "include_colab_link": true
    },
    "kernelspec": {
      "name": "python3",
      "display_name": "Python 3"
    },
    "language_info": {
      "name": "python"
    }
  },
  "cells": [
    {
      "cell_type": "markdown",
      "metadata": {
        "id": "view-in-github",
        "colab_type": "text"
      },
      "source": [
        "<a href=\"https://colab.research.google.com/github/Tserenkhand0616/Dive-into-code/blob/main/MT_FujiPaperFoldingProblem.ipynb\" target=\"_parent\"><img src=\"https://colab.research.google.com/assets/colab-badge.svg\" alt=\"Open In Colab\"/></a>"
      ]
    },
    {
      "cell_type": "markdown",
      "source": [
        "[Problem 1] How many times to fold paper to exceed the height of Mt.Fuji?\n",
        "\n",
        "Create a program that calculates the minimum number of times to fold the paper required for the thickness to exceed the \"height of Mt. Fuji (3776m)\"."
      ],
      "metadata": {
        "id": "DzG9xGMd82dA"
      }
    },
    {
      "cell_type": "code",
      "execution_count": null,
      "metadata": {
        "colab": {
          "base_uri": "https://localhost:8080/"
        },
        "id": "edn7qAPBOnfA",
        "outputId": "97eb5d5d-6fd0-4894-8760-94f617e571e7"
      },
      "outputs": [
        {
          "output_type": "stream",
          "name": "stdout",
          "text": [
            " 25.5 times you need fold to reach Mt.Fuji\n"
          ]
        }
      ],
      "source": [
        "import math\n",
        "thickness=0.00008\n",
        "def How_Many_Times_Should_Fold(length):\n",
        "  \"\"\"\n",
        "  A function that calculates the number of how many times you need fold paper.\n",
        "\n",
        "  Parameters\n",
        "  ---------\n",
        "  length: int\n",
        "    Length that you desired\n",
        "  thickness: float\n",
        "    Tickness of paper\n",
        "\n",
        "  Returns\n",
        "  --------\n",
        "  n: float\n",
        "    Number that you should fold\n",
        "  \"\"\"\n",
        "  n=math.log(length/thickness,2)\n",
        "  return n\n",
        "length=3776\n",
        "How_Many_Times_Should_Fold(length)\n",
        "print(\"{: .1f} times you need fold to reach Mt.Fuji\".format(How_Many_Times_Should_Fold(length)))\n"
      ]
    },
    {
      "cell_type": "markdown",
      "source": [
        "[Problem 2] Function corresponding to arbitrary thickness\n",
        "Implement a function that, given a height input, would output the minimum number of paper folds required to exceed it. Let's make it possible to set the thickness $t_{0}$ before folding as an argument.\n",
        "\n",
        "Using this function, calculate how many times you would need to fold a piece of paper to reach the nearest non-sun star.\n",
        "The nearest non-sun star is Proxima Centauri, which is about $4.0175 \\times 10^{16}$m away from Earth."
      ],
      "metadata": {
        "id": "QsmCUdMoPIOD"
      }
    },
    {
      "cell_type": "code",
      "source": [
        "length=4.0175*10**16\n",
        "n=How_Many_Times_Should_Fold(length)\n",
        "print(\"{: .1f} times you need fold to reach Proxima Centauri\".format(n))"
      ],
      "metadata": {
        "colab": {
          "base_uri": "https://localhost:8080/"
        },
        "id": "rjfIlmI2PIdC",
        "outputId": "b9edf8da-5982-40ae-e077-0b86d13223cf"
      },
      "execution_count": null,
      "outputs": [
        {
          "output_type": "stream",
          "name": "stdout",
          "text": [
            " 68.8 times you need fold to reach Proxima Centauri\n"
          ]
        }
      ]
    },
    {
      "cell_type": "markdown",
      "source": [
        "[Problem 3] Required paper length\n",
        "In fact, the paper around us cannot be folded 10 times, let alone 43 times. However, the larger the paper, the more it can be folded. There is a formula for finding the number of times a long piece of paper, such as toilet paper, can be folded when considering folding it in one direction.The length of paper L required to fold a $t_{0}$ thick paper n times can be obtained by the following formula.Use this formula to implement a function that finds the length of paper needed to actually fold the paper and reach any thickness.\n",
        "\n",
        "Then use this to find out the length of paper needed to reach the Moon, Mt. Fuji, and the stars closest to the Sun."
      ],
      "metadata": {
        "id": "FtUiDKeq9KQE"
      }
    },
    {
      "cell_type": "code",
      "source": [
        "import numpy as np\n",
        "import math\n",
        "def How_Many_Length_Need(length):\n",
        "  \"\"\"\n",
        "  A function that calculates the length of how much paper length is needed to achieve the desired length.\n",
        "\n",
        "  Parameters\n",
        "  ---------\n",
        "  length: int\n",
        "    Length that you desired\n",
        "  thickness: float\n",
        "    Tickness of paper\n",
        "  n: int\n",
        "    Number that you should fold\n",
        "  c: float\n",
        "    The number pi\n",
        "\n",
        "\n",
        "  Returns\n",
        "  --------\n",
        "  l: int\n",
        "    Required paper length\n",
        "  \"\"\"\n",
        "  c=np.pi\n",
        "  n=math.log(length/thickness,2)\n",
        "  l=(c*thickness/6)*(2**n+4)*(2**n-1)\n",
        "  return l\n",
        "length=3776\n",
        "l = How_Many_Length_Need(length)\n",
        "print(\"{: .1f} kilometer paper is needed to reach MT.Fuji\".format(l/1000))\n",
        "length=150*10**6\n",
        "l = How_Many_Length_Need(length)\n",
        "print(\"{: .1f} kilometer paper is needed to reach Moon\".format(l/1000))\n",
        "length=4.0175*10**16\n",
        "l = How_Many_Length_Need(length)\n",
        "print(\"{: .1f} kilometer paper is needed to reach Proxima Centauri\".format(l/1000))"
      ],
      "metadata": {
        "colab": {
          "base_uri": "https://localhost:8080/"
        },
        "id": "Oey4cdNFsX-O",
        "outputId": "d7b69dc4-cd6a-412e-a2e8-79094a588ac2"
      },
      "execution_count": null,
      "outputs": [
        {
          "output_type": "stream",
          "name": "stdout",
          "text": [
            " 93319549.6 kilometer paper is needed to reach MT.Fuji\n",
            " 147262155637258080.0 kilometer paper is needed to reach Moon\n",
            " 10563805737851904962130557846683648.0 kilometer paper is needed to reach Proxima Centauri\n"
          ]
        }
      ]
    }
  ]
}