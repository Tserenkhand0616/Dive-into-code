{
  "cells": [
    {
      "cell_type": "markdown",
      "metadata": {
        "id": "view-in-github",
        "colab_type": "text"
      },
      "source": [
        "<a href=\"https://colab.research.google.com/github/Tserenkhand0616/Dive-into-code/blob/main/Implementation_of_matrix_product.ipynb\" target=\"_parent\"><img src=\"https://colab.research.google.com/assets/colab-badge.svg\" alt=\"Open In Colab\"/></a>"
      ]
    },
    {
      "cell_type": "code",
      "execution_count": null,
      "metadata": {
        "id": "bbsHTsVhgubL"
      },
      "outputs": [],
      "source": [
        "import numpy as np\n",
        "a_ndarray = np.array([[-1, 2, 3], [4, -5, 6], [7, 8, -9]])\n",
        "b_ndarray = np.array([[0, 2, 1], [0, 2, -8], [2, 9, -1]])"
      ]
    },
    {
      "cell_type": "markdown",
      "source": [
        "[Problem 1] Matrix product is calculated manually\n",
        "Solve the matrix product of A and B by hand.\n",
        "\n",
        "Please also explain the calculation process using markdown text."
      ],
      "metadata": {
        "id": "FGudYMUqSamG"
      }
    },
    {
      "cell_type": "code",
      "source": [
        "G = np.zeros((3,3))\n",
        "G[0,0]=a_ndarray[0,0]*b_ndarray[0,0]+a_ndarray[0,1]*b_ndarray[1,0]+a_ndarray[0,2]*b_ndarray[2,0]\n",
        "G[0,1]=a_ndarray[0,0]*b_ndarray[0,1]+a_ndarray[0,1]*b_ndarray[1,1]+a_ndarray[0,2]*b_ndarray[2,1]\n",
        "G[0,2]=a_ndarray[0,0]*b_ndarray[0,2]+a_ndarray[0,1]*b_ndarray[1,2]+a_ndarray[0,2]*b_ndarray[2,2]\n",
        "G[1,0]=a_ndarray[1,0]*b_ndarray[0,0]+a_ndarray[1,1]*b_ndarray[1,0]+a_ndarray[1,2]*b_ndarray[2,0]\n",
        "G[1,1]=a_ndarray[1,0]*b_ndarray[0,1]+a_ndarray[1,1]*b_ndarray[1,1]+a_ndarray[1,2]*b_ndarray[2,1]\n",
        "G[1,2]=a_ndarray[1,0]*b_ndarray[0,2]+a_ndarray[1,1]*b_ndarray[1,2]+a_ndarray[1,2]*b_ndarray[2,2]\n",
        "G[2,0]=a_ndarray[2,0]*b_ndarray[0,0]+a_ndarray[2,1]*b_ndarray[1,0]+a_ndarray[2,2]*b_ndarray[2,0]\n",
        "G[2,1]=a_ndarray[2,0]*b_ndarray[0,1]+a_ndarray[2,1]*b_ndarray[1,1]+a_ndarray[2,2]*b_ndarray[2,1]\n",
        "G[2,2]=a_ndarray[2,0]*b_ndarray[0,2]+a_ndarray[2,1]*b_ndarray[1,2]+a_ndarray[2,2]*b_ndarray[2,2]\n",
        "print(G)"
      ],
      "metadata": {
        "colab": {
          "base_uri": "https://localhost:8080/"
        },
        "id": "nMuGtM1cfeB9",
        "outputId": "9f82d77e-18e2-4931-fb87-484612e0a1ae"
      },
      "execution_count": null,
      "outputs": [
        {
          "output_type": "stream",
          "name": "stdout",
          "text": [
            "[[  6.  29. -20.]\n",
            " [ 12.  52.  38.]\n",
            " [-18. -51. -48.]]\n"
          ]
        }
      ]
    },
    {
      "cell_type": "code",
      "execution_count": null,
      "metadata": {
        "id": "i30eAldE3SNb"
      },
      "outputs": [],
      "source": []
    },
    {
      "cell_type": "markdown",
      "source": [
        "[Problem 2] Calculation by NumPy function\n",
        "This matrix product of NumPy can be easily calculated using np.matmul() or np.dot() , or the @ operator.\n",
        "\n",
        "Use these to calculate the matrix product."
      ],
      "metadata": {
        "id": "LA4vJOOlZXvQ"
      }
    },
    {
      "cell_type": "code",
      "source": [
        "C1=np.matmul(a_ndarray,b_ndarray)\n",
        "C2=np.dot(a_ndarray, b_ndarray)\n",
        "C3=a_ndarray@b_ndarray\n",
        "print(\"Using np.matmul {}\".format(C1))\n",
        "print(\"Using np.dot {}\".format(C2))\n",
        "print(\"Using @ {}\".format(C3))"
      ],
      "metadata": {
        "colab": {
          "base_uri": "https://localhost:8080/"
        },
        "id": "TG2PDOi2T_Y_",
        "outputId": "58586ede-e92a-425c-fbfb-4c53baba83b9"
      },
      "execution_count": null,
      "outputs": [
        {
          "output_type": "stream",
          "name": "stdout",
          "text": [
            "Using np.matmul [[  6  29 -20]\n",
            " [ 12  52  38]\n",
            " [-18 -51 -48]]\n",
            "Using np.dot [[  6  29 -20]\n",
            " [ 12  52  38]\n",
            " [-18 -51 -48]]\n",
            "Using @ [[  6  29 -20]\n",
            " [ 12  52  38]\n",
            " [-18 -51 -48]]\n"
          ]
        }
      ]
    },
    {
      "cell_type": "markdown",
      "source": [
        "[Problem 3] Implementation of calculation of a certain element\n",
        "When doing the calculations by hand, you may have first paid attention to row 0 of matrix A and column 0 of matrix B, and then performed the following calculations."
      ],
      "metadata": {
        "id": "MZw6QUo6Z2gX"
      }
    },
    {
      "cell_type": "code",
      "source": [
        "D=np.zeros((3),dtype=np.int16)\n",
        "for i in range(3):\n",
        "    D[i]=(a_ndarray[0,i]*b_ndarray[i,0])\n",
        "Z=np.sum(D)\n",
        "print(Z)"
      ],
      "metadata": {
        "colab": {
          "base_uri": "https://localhost:8080/"
        },
        "id": "7ffS0XozZ31n",
        "outputId": "6d6edf34-0521-4981-a152-e49114adb21a"
      },
      "execution_count": null,
      "outputs": [
        {
          "output_type": "stream",
          "name": "stdout",
          "text": [
            "6\n"
          ]
        }
      ]
    },
    {
      "cell_type": "markdown",
      "source": [
        "[Problem 4] Creating a function that performs matrix multiplication\n",
        "Extend the code in Problem 3 to complete the matrix product scratch implementation. It should be a function that takes matrices A and B as arguments and returns the matrix product."
      ],
      "metadata": {
        "id": "rv_LBZLUeNKI"
      }
    },
    {
      "cell_type": "code",
      "source": [
        "def Find_matrix_product(a_ndarray,b_ndarray):\n",
        "  '''\n",
        "  A function that calculates product of matrix\n",
        "\n",
        "  Parameters:\n",
        "  -------------\n",
        "  a_ndarray = First matrix\n",
        "  b_ndarray = Second matrix\n",
        "  i = number of row\n",
        "  k = number of column\n",
        "\n",
        "  Return:\n",
        "  -------------\n",
        "  C = product of matrix\n",
        "  '''\n",
        "  C = np.zeros((a_ndarray.shape[0], b_ndarray.shape[1]), dtype=np.int16)\n",
        "  for i in range(a_ndarray.shape[0]):\n",
        "    for k in range(b_ndarray.shape[1]):\n",
        "      C[i,k]=np.sum(a_ndarray[i,:]*b_ndarray[:,k])\n",
        "  return C\n",
        "H=Find_matrix_product(a_ndarray,b_ndarray)\n",
        "print(H)\n"
      ],
      "metadata": {
        "colab": {
          "base_uri": "https://localhost:8080/"
        },
        "id": "6guofn1laXZ_",
        "outputId": "9ecb0566-c3f8-4e13-f146-a13059dc02c0"
      },
      "execution_count": null,
      "outputs": [
        {
          "output_type": "stream",
          "name": "stdout",
          "text": [
            "[[  6  29 -20]\n",
            " [ 12  52  38]\n",
            " [-18 -51 -48]]\n"
          ]
        }
      ]
    },
    {
      "cell_type": "markdown",
      "source": [
        "[Problem 5] Judge the input whose calculation is not defined\n",
        "Depending on the implementation method, the function created in Problem 4 may work even if this D and E array is input. In this case, incorrect calculations will be made. Also, even if an error occurs in the middle, a message that is hard to understand why the error occurred is displayed directly."
      ],
      "metadata": {
        "id": "Lnm0E4DioDrp"
      }
    },
    {
      "cell_type": "code",
      "source": [
        "d_ndarray = np.array([[-1, 2, 3], [4, -5, 6]])\n",
        "e_ndarray = np.array([[-9, 8, 7], [6, -5, 4]])\n",
        "def Right_Find_matrix_product(a_ndarray, b_ndarray):\n",
        "  '''\n",
        "  A function that checks whether two matrices are suitable matrices for multiplication\n",
        "  Parameters:\n",
        "  -----------\n",
        "  a_ndarray = First matrix\n",
        "  b_ndarray = Second matrix\n",
        "\n",
        "  Returns:\n",
        "  C = product of matrices\n",
        "  '''\n",
        "  if(a_ndarray.shape[0]==b_ndarray.shape[1]):\n",
        "    print(\"Suitable\")\n",
        "    C = Find_matrix_product(a_ndarray,b_ndarray)# If two matrices suitable it find product and print \"Suitable\"\n",
        "    return C\n",
        "  elif(a_ndarray.shape[1]==b_ndarray.shape[0]):# if two matrices order is not right, this will swap and find product and prind \"Need two swap\"\n",
        "    print(\"Need to swap\")\n",
        "    z=np.copy(b_ndarray)\n",
        "    b_ndarray=a_ndarraya\n",
        "    a_ndarray=z\n",
        "    C = Find_matrix_product(a_ndarray,b_ndarray)\n",
        "    return C\n",
        "  else: #If neither of the above conditions are met, this will print \"does not fit\"\n",
        "    print(\"does not fit\")\n",
        "T=Right_Find_matrix_product(d_ndarray,e_ndarray)"
      ],
      "metadata": {
        "colab": {
          "base_uri": "https://localhost:8080/"
        },
        "id": "r7j1riBGq8tC",
        "outputId": "256054bb-5d42-493f-aecc-1020cc7d72d7"
      },
      "execution_count": null,
      "outputs": [
        {
          "output_type": "stream",
          "name": "stdout",
          "text": [
            "does not fit\n"
          ]
        }
      ]
    },
    {
      "cell_type": "markdown",
      "source": [
        "[Problem 6] Transposition\n",
        "Transposing one matrix allows you to calculate the matrix product.\n",
        "\n",
        "Transpose it using the np.transpose() or .T attributes and calculate the matrix product."
      ],
      "metadata": {
        "id": "GAzJCJqJxwDL"
      }
    },
    {
      "cell_type": "code",
      "source": [
        "def Real_Find_matrix_product(a_ndarray, b_ndarray):\n",
        "  '''\n",
        "  A function that checks whether two matrices are suitable matrices for multiplication\n",
        "  Parameters:\n",
        "  -----------\n",
        "  a_ndarray = First matrix\n",
        "  b_ndarray = Second matrix\n",
        "\n",
        "  Returns:\n",
        "  C = product of matrices\n",
        "  '''\n",
        "  if(a_ndarray.shape[0]==b_ndarray.shape[1]):# If two matrices suitable it find product and print \"Suitable\"\n",
        "    C = Find_matrix_product(a_ndarray,b_ndarray)\n",
        "   # for i in range(a_ndarray.shape[0]):\n",
        "    # for k in range(b_ndarray.shape[1]):\n",
        "      # C[i,k]=np.sum(a_ndarray[i,:]*b_ndarray[:,k])\"#\n",
        "    return C\n",
        "  elif(a_ndarray.shape[1]==b_ndarray.shape[0]):# if two matrices order is not right, this will swap and find product and prind \"Need two swap\"\n",
        "    print(\"swapped\")\n",
        "    z=np.copy(b_ndarray)\n",
        "    b_ndarray=a_ndarraya\n",
        "    a_ndarray=z\n",
        "    C = Find_matrix_product(a_ndarray,b_ndarray)\n",
        "    return C\n",
        "  else:#If neither of the above conditions are met, this will tranpose second matrice and find product\n",
        "    z=np.transpose(b_ndarray)\n",
        "    C = Find_matrix_product(a_ndarray,z)\n",
        "    return C\n",
        "    print(\"no\")\n",
        "T=Real_Find_matrix_product(d_ndarray,e_ndarray)\n",
        "print(T)"
      ],
      "metadata": {
        "colab": {
          "base_uri": "https://localhost:8080/"
        },
        "id": "540--vPOoEQk",
        "outputId": "769f549f-4acd-44d3-b74d-f6d6c3411f50"
      },
      "execution_count": null,
      "outputs": [
        {
          "output_type": "stream",
          "name": "stdout",
          "text": [
            "[[ 46  -4]\n",
            " [-34  73]]\n"
          ]
        }
      ]
    }
  ],
  "metadata": {
    "colab": {
      "provenance": [],
      "include_colab_link": true
    },
    "kernelspec": {
      "display_name": "Python 3",
      "name": "python3"
    },
    "language_info": {
      "name": "python"
    },
    "gpuClass": "standard"
  },
  "nbformat": 4,
  "nbformat_minor": 0
}